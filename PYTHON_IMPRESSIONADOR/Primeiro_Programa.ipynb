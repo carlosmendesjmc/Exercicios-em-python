{
 "cells": [
  {
   "cell_type": "code",
   "execution_count": 6,
   "id": "08b8fb0d",
   "metadata": {},
   "outputs": [
    {
     "name": "stdout",
     "output_type": "stream",
     "text": [
      "Hello World!\n",
      "This is my first code 😀\n"
     ]
    }
   ],
   "source": [
    "print('Hello World!')\n",
    "print('This is my first code 😀')"
   ]
  },
  {
   "cell_type": "code",
   "execution_count": 8,
   "id": "28ef994a",
   "metadata": {},
   "outputs": [
    {
     "name": "stdout",
     "output_type": "stream",
     "text": [
      "Meu nome é José\n"
     ]
    }
   ],
   "source": [
    "# como concatenar \n",
    "print('Meu nome é ' + 'José')"
   ]
  },
  {
   "cell_type": "code",
   "execution_count": 20,
   "id": "9ee659ae",
   "metadata": {},
   "outputs": [
    {
     "name": "stdout",
     "output_type": "stream",
     "text": [
      "False\n",
      "True\n"
     ]
    }
   ],
   "source": [
    "# Verica de um palavra esta contida em outra\n",
    "\n",
    "print('José Carlos ' in 'Carlos José') # False\n",
    "print('s' in ' José') # True  \n"
   ]
  },
  {
   "cell_type": "code",
   "execution_count": null,
   "id": "79b1e76c",
   "metadata": {},
   "outputs": [
    {
     "name": "stdout",
     "output_type": "stream",
     "text": [
      "500\n"
     ]
    }
   ],
   "source": [
    "# Calculo do lucro\n",
    "faturamento = 1500\n",
    "custo = 1000\n",
    "lucro = faturamento -custo\n",
    "print(lucro)"
   ]
  },
  {
   "cell_type": "code",
   "execution_count": null,
   "id": "13aef4a0",
   "metadata": {},
   "outputs": [
    {
     "name": "stdout",
     "output_type": "stream",
     "text": [
      "José Mendes\n"
     ]
    }
   ],
   "source": [
    "# Como receber as informações do usuario\n",
    "nome = input(\"Qual é o seu nome ?\")\n",
    "sobrenome = input(\"Qual é o seu sobrenome ?\")\n",
    "print(nome, sobrenome)\n",
    "\n"
   ]
  },
  {
   "cell_type": "code",
   "execution_count": null,
   "id": "4529bdf5",
   "metadata": {},
   "outputs": [
    {
     "data": {
      "text/plain": [
       "'Jose'"
      ]
     },
     "execution_count": 1,
     "metadata": {},
     "output_type": "execute_result"
    }
   ],
   "source": [
    "faturamento = input(\"Insira o faturamento da empresa: \")\n",
    "custo = input(\"Insira o custo da empresa: \")"
   ]
  }
 ],
 "metadata": {
  "kernelspec": {
   "display_name": "Python 3",
   "language": "python",
   "name": "python3"
  },
  "language_info": {
   "codemirror_mode": {
    "name": "ipython",
    "version": 3
   },
   "file_extension": ".py",
   "mimetype": "text/x-python",
   "name": "python",
   "nbconvert_exporter": "python",
   "pygments_lexer": "ipython3",
   "version": "3.12.3"
  }
 },
 "nbformat": 4,
 "nbformat_minor": 5
}
